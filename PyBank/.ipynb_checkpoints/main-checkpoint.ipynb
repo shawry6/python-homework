{
 "cells": [
  {
   "cell_type": "code",
   "execution_count": 1,
   "id": "34634c0b-8066-45f8-9312-74ef1aa2dd66",
   "metadata": {},
   "outputs": [],
   "source": [
    "# '''\n",
    "# This is a Python script for analyzing the financial records of this company. \n",
    "# The financial dataset relates to this file: budget_data.csv. \n",
    "# This dataset is composed of two columns, Date and Profit/Losses. \n",
    "# This Python script analyzes the records of this file to calculate each of the following:\n",
    "\n",
    "# 1. The total number of months included in the dataset.\n",
    "# 2. The net total amount of Profit/Losses over the entire period.\n",
    "# 3. The average of the changes in Profit/Losses over the entire period.\n",
    "# 4. The greatest increase in profits (date and amount) over the entire period.\n",
    "# 5. The greatest decrease in losses (date and amount) over the entire period.\n",
    "\n",
    "# The final script should print the analysis to the terminal and export a text file \n",
    "# with the results\n",
    "# '''"
   ]
  },
  {
   "cell_type": "code",
   "execution_count": 2,
   "id": "563ad32d-f018-441e-8738-e7b991e6a630",
   "metadata": {},
   "outputs": [],
   "source": [
    "from pathlib import Path\n",
    "import csv\n",
    "csvpath = Path(\"Resources/budget_data.csv\")"
   ]
  },
  {
   "cell_type": "code",
   "execution_count": 3,
   "id": "90600089-61f2-478d-ba8b-5b213ac94bc4",
   "metadata": {},
   "outputs": [],
   "source": [
    "dates = []\n",
    "pnl_list = []\n",
    "net_change_list = []\n",
    "line_num = 0"
   ]
  },
  {
   "cell_type": "code",
   "execution_count": 4,
   "id": "27d9b0c5-10e5-4366-b96e-28529695d27a",
   "metadata": {},
   "outputs": [],
   "source": [
    "# Initialise metric variables\n",
    "total_pnl = 0\n",
    "months = 0 \n",
    "average_change_pnl = 0\n",
    "maximum_change_pnl = 0\n",
    "minimum_change_pnl = 0\n",
    "maximum_change_month = 0\n",
    "minimum_change_month = 0"
   ]
  },
  {
   "cell_type": "code",
   "execution_count": 5,
   "id": "0164bf44-ef16-4d47-bf3d-605cc20c86f2",
   "metadata": {},
   "outputs": [
    {
     "name": "stdout",
     "output_type": "stream",
     "text": [
      "Financial Analysis\n",
      "-------------------------\n",
      "Total Months: 86\n",
      "Total: $38382578\n",
      "Average change: $-2315.12\n",
      "Greatest Increase in Profits: $1926159\n",
      "Greatest Decrease in Profits: $-2196167\n"
     ]
    }
   ],
   "source": [
    "# Open path and intialise data\n",
    "with open(csvpath, 'r') as csvfile:\n",
    "    \n",
    "    csvreader = csv.reader(csvfile, delimiter = ',')\n",
    "    \n",
    "    header = next(csvreader)\n",
    "    first_row = next(csvreader)\n",
    "    total_pnl += int(first_row[1])\n",
    "    months += 1\n",
    "    prev_pnl = int(first_row[1])\n",
    "\n",
    "# 1. The total number of months included in the dataset    \n",
    "    for row in csvreader:\n",
    "        months += 1\n",
    "\n",
    "# 2. Calculate the net total amount of Profit/Losses over the entire period\n",
    "        pnl = int(row[1])\n",
    "        total_pnl += pnl\n",
    "    \n",
    "# 3. Calculate the average of the changes in Profit/Losses over the entire period.\n",
    "        net_change = pnl - prev_pnl\n",
    "        net_change_list.append(net_change)\n",
    "        prev_pnl = pnl\n",
    "        \n",
    "# 4. Calculate the greatest increase in profits (date and amount) over the entire period.\n",
    "        if maximum_change_pnl < net_change:\n",
    "                maximum_change_pnl  = net_change\n",
    "#                 maximum_change_month = \n",
    "                \n",
    "        \n",
    "          \n",
    "# 5. Calculate the greatest increase in profits (date and amount) over the entire period.\n",
    "        if minimum_change_pnl > net_change:\n",
    "                minimum_change_pnl  = net_change\n",
    "\n",
    "            \n",
    "print(\"Financial Analysis\") \n",
    "print(\"-------------------------\")\n",
    "        \n",
    "print(f\"Total Months: {months}\")\n",
    "print(f\"Total: ${total_pnl}\")\n",
    "print(f\"Average change: ${round(sum(net_change_list) / len(net_change_list),2)}\")\n",
    "print(f\"Greatest Increase in Profits: ${maximum_change_pnl}\")\n",
    "print(f\"Greatest Decrease in Profits: ${minimum_change_pnl}\")"
   ]
  },
  {
   "cell_type": "code",
   "execution_count": 6,
   "id": "0fc40a39-c332-4338-a849-99c0c4b3decf",
   "metadata": {},
   "outputs": [],
   "source": [
    "# Set the path for the output.csv\n",
    "output = Path(\"output.csv\")\n",
    "\n",
    "# Open the output path as a file and pass into the 'csv.writer()' function\n",
    "# Set the delimiter/separater as a ','\n",
    "with open(output, 'w') as csvfile:\n",
    "    csvwriter = csv.writer(csvfile, delimiter=',')\n",
    "\n",
    "    records = str(0)\n",
    "\n",
    "    # Loop through the list of records and write every record to the output csv file\n",
    "    for record in records:\n",
    "        csvwriter.writerow(record)\n"
   ]
  }
 ],
 "metadata": {
  "kernelspec": {
   "display_name": "dev",
   "language": "python",
   "name": "dev"
  },
  "language_info": {
   "codemirror_mode": {
    "name": "ipython",
    "version": 3
   },
   "file_extension": ".py",
   "mimetype": "text/x-python",
   "name": "python",
   "nbconvert_exporter": "python",
   "pygments_lexer": "ipython3",
   "version": "3.7.10"
  }
 },
 "nbformat": 4,
 "nbformat_minor": 5
}
