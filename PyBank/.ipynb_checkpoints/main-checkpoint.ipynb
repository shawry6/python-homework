{
 "cells": [
  {
   "cell_type": "code",
   "execution_count": 7,
   "id": "ca69ab50-e4b7-49db-8ac5-5d077dc94cab",
   "metadata": {},
   "outputs": [
    {
     "name": "stdout",
     "output_type": "stream",
     "text": [
      "['Date', 'Profit/Losses']\n"
     ]
    }
   ],
   "source": [
    "## PyBank\n",
    "\n",
    "## In this activity, you are tasked with creating a Python script for analyzing the financial records of your company. You will be provided with a financial dataset in this file: budget_data.csv. \n",
    "## This dataset is composed of two columns, Date and Profit/Losses. (Thankfully, your company has rather lax standards for accounting, so the records are simple.)\n",
    "\n",
    "## Your task is to create a Python script that analyzes the records to calculate each of the following:\n",
    "\n",
    "\n",
    "# Import the pathlib and csv library\n",
    "from pathlib import Path\n",
    "import csv\n",
    "\n",
    "# Set the file path\n",
    "csvpath = Path('Resources/budget_data.csv')\n",
    "\n",
    "# Initialize list of records\n",
    "records = []\n",
    "\n",
    "# Open the csv file as an object\n",
    "with open(csvpath, 'r') as csvfile:\n",
    "    \n",
    "    # Pass in the csv file to the csv.reader() function\n",
    "    # (with ',' as the delmiter/separator) and return the csvreader object\n",
    "    csvreader = csv.reader(csvfile, delimiter=',')\n",
    "\n",
    "    # Read the header row first (skip this step if there is no header)\n",
    "    csv_header = next(csvreader)\n",
    "    \n",
    "    # Print the header\n",
    "    print(csv_header)\n"
   ]
  },
  {
   "cell_type": "code",
   "execution_count": null,
   "id": "44deb16c-d039-4f02-951d-0b1d41a14242",
   "metadata": {},
   "outputs": [],
   "source": [
    "## The total number of months included in the dataset.\n",
    "\n",
    "\n",
    "## The net total amount of Profit/Losses over the entire period.\n",
    "\n",
    "\n",
    "## The average of the changes in Profit/Losses over the entire period.\n",
    "\n",
    "\n",
    "## The greatest increase in profits (date and amount) over the entire period.\n",
    "\n",
    "\n",
    "## The greatest decrease in losses (date and amount) over the entire period.\n",
    "\n",
    "\n",
    "## Your resulting analysis should look similar to the following:\n",
    "## Financial Analysis\n",
    "## ----------------------------\n",
    "## Total Months: 86\n",
    "## Total: $38382578\n",
    "## Average  Change: $-2315.12\n",
    "## Greatest Increase in Profits: Feb-2012 ($1926159)\n",
    "## Greatest Decrease in Profits: Sep-2013 ($-2196167)\n",
    "    \n",
    "## Your final script should print the analysis to the terminal and export a text file with the results."
   ]
  }
 ],
 "metadata": {
  "kernelspec": {
   "display_name": "dev",
   "language": "python",
   "name": "dev"
  },
  "language_info": {
   "codemirror_mode": {
    "name": "ipython",
    "version": 3
   },
   "file_extension": ".py",
   "mimetype": "text/x-python",
   "name": "python",
   "nbconvert_exporter": "python",
   "pygments_lexer": "ipython3",
   "version": "3.7.10"
  }
 },
 "nbformat": 4,
 "nbformat_minor": 5
}
