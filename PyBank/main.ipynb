{
 "cells": [
  {
   "cell_type": "code",
   "execution_count": 1,
   "id": "80c70eed-435f-4af5-bb8a-e9b315cd106b",
   "metadata": {},
   "outputs": [
    {
     "name": "stdout",
     "output_type": "stream",
     "text": [
      "['Date', 'Profit/Losses']\n",
      "['Jan-2010', '867884']\n",
      "['Feb-2010', '984655']\n",
      "['Mar-2010', '322013']\n",
      "['Apr-2010', '-69417']\n",
      "['May-2010', '310503']\n",
      "['Jun-2010', '522857']\n",
      "['Jul-2010', '1033096']\n",
      "['Aug-2010', '604885']\n",
      "['Sep-2010', '-216386']\n",
      "['Oct-2010', '477532']\n",
      "['Nov-2010', '893810']\n",
      "['Dec-2010', '-80353']\n",
      "['Jan-2011', '779806']\n",
      "['Feb-2011', '-335203']\n",
      "['Mar-2011', '697845']\n",
      "['Apr-2011', '793163']\n",
      "['May-2011', '485070']\n",
      "['Jun-2011', '584122']\n",
      "['Jul-2011', '62729']\n",
      "['Aug-2011', '668179']\n",
      "['Sep-2011', '899906']\n",
      "['Oct-2011', '834719']\n",
      "['Nov-2011', '132003']\n",
      "['Dec-2011', '309978']\n",
      "['Jan-2012', '-755566']\n",
      "['Feb-2012', '1170593']\n",
      "['Mar-2012', '252788']\n",
      "['Apr-2012', '1151518']\n",
      "['May-2012', '817256']\n",
      "['Jun-2012', '570757']\n",
      "['Jul-2012', '506702']\n",
      "['Aug-2012', '-1022534']\n",
      "['Sep-2012', '475062']\n",
      "['Oct-2012', '779976']\n",
      "['Nov-2012', '144175']\n",
      "['Dec-2012', '542494']\n",
      "['Jan-2013', '359333']\n",
      "['Feb-2013', '321469']\n",
      "['Mar-2013', '67780']\n",
      "['Apr-2013', '471435']\n",
      "['May-2013', '565603']\n",
      "['Jun-2013', '872480']\n",
      "['Jul-2013', '789480']\n",
      "['Aug-2013', '999942']\n",
      "['Sep-2013', '-1196225']\n",
      "['Oct-2013', '268997']\n",
      "['Nov-2013', '-687986']\n",
      "['Dec-2013', '1150461']\n",
      "['Jan-2014', '682458']\n",
      "['Feb-2014', '617856']\n",
      "['Mar-2014', '824098']\n",
      "['Apr-2014', '581943']\n",
      "['May-2014', '132864']\n",
      "['Jun-2014', '448062']\n",
      "['Jul-2014', '689161']\n",
      "['Aug-2014', '800701']\n",
      "['Sep-2014', '1166643']\n",
      "['Oct-2014', '947333']\n",
      "['Nov-2014', '578668']\n",
      "['Dec-2014', '988505']\n",
      "['Jan-2015', '1139715']\n",
      "['Feb-2015', '1029471']\n",
      "['Mar-2015', '687533']\n",
      "['Apr-2015', '-524626']\n",
      "['May-2015', '158620']\n",
      "['Jun-2015', '87795']\n",
      "['Jul-2015', '423389']\n",
      "['Aug-2015', '840723']\n",
      "['Sep-2015', '568529']\n",
      "['Oct-2015', '332067']\n",
      "['Nov-2015', '989499']\n",
      "['Dec-2015', '778237']\n",
      "['Jan-2016', '650000']\n",
      "['Feb-2016', '-1100387']\n",
      "['Mar-2016', '-174946']\n",
      "['Apr-2016', '757143']\n",
      "['May-2016', '445709']\n",
      "['Jun-2016', '712961']\n",
      "['Jul-2016', '-1163797']\n",
      "['Aug-2016', '569899']\n",
      "['Sep-2016', '768450']\n",
      "['Oct-2016', '102685']\n",
      "['Nov-2016', '795914']\n",
      "['Dec-2016', '60988']\n",
      "['Jan-2017', '138230']\n",
      "['Feb-2017', '671099']\n"
     ]
    }
   ],
   "source": [
    "## PyBank\n",
    "\n",
    "## In this activity, you are tasked with creating a Python script for analyzing the financial records of your company. \n",
    "## You will be provided with a financial dataset in this file: budget_data.csv. \n",
    "## This dataset is composed of two columns, Date and Profit/Losses. \n",
    "## (Thankfully, your company has rather lax standards for accounting, so the records are simple.)\n",
    "\n",
    "## Your task is to create a Python script that analyzes the records to calculate each of the following:\n",
    "\n",
    "\n",
    "# Import the pathlib and csv library\n",
    "from pathlib import Path\n",
    "import csv\n",
    "\n",
    "# Set the file path\n",
    "csvpath = Path('Resources/budget_data.csv')\n",
    "\n",
    "# Initialize list of records\n",
    "records = []\n",
    "\n",
    "# Open the csv file as an object\n",
    "with open(csvpath, 'r') as csvfile:\n",
    "    \n",
    "    # Pass in the csv file to the csv.reader() function\n",
    "    # (with ',' as the delmiter/separator) and return the csvreader object\n",
    "    csvreader = csv.reader(csvfile, delimiter=',')\n",
    "\n",
    "    # Read the header row first (skip this step if there is no header)\n",
    "    csv_header = next(csvreader)\n",
    "    \n",
    "    # Print the header\n",
    "    print(csv_header)\n",
    "    \n",
    "    # Read each row of data after the header\n",
    "    for row in csvreader:\n",
    "        print(row)"
   ]
  },
  {
   "cell_type": "code",
   "execution_count": 2,
   "id": "d51e7b9d-7f73-48d1-bc21-ce9005a5e409",
   "metadata": {},
   "outputs": [],
   "source": [
    "# Set the \"Date\" and \"PnL\" variables for better readability, convert strings to ints for numerical calculations\n",
    "date = str(row[0])\n",
    "pnl = int(row[1])"
   ]
  },
  {
   "cell_type": "code",
   "execution_count": 3,
   "id": "90260826-ef4e-4f83-8574-13c9ab38e6ed",
   "metadata": {},
   "outputs": [
    {
     "name": "stdout",
     "output_type": "stream",
     "text": [
      "Total number of months listed: 1\n"
     ]
    }
   ],
   "source": [
    "# Calculate the total number of months included in the dataset.\n",
    "total_months = 0\n",
    "total_months += 1\n",
    "        \n",
    "print(f\"Total number of months listed: {total_months}\")"
   ]
  },
  {
   "cell_type": "code",
   "execution_count": 4,
   "id": "a0f1d3f0-7144-48bd-8b24-aaa56b98282d",
   "metadata": {},
   "outputs": [
    {
     "name": "stdout",
     "output_type": "stream",
     "text": [
      "Net Total amount of Profit/Losses: $671099\n"
     ]
    }
   ],
   "source": [
    "## The net total amount of Profit/Losses over the entire period.\n",
    "total_pnl = 0\n",
    "total_pnl =+ pnl\n",
    "print(f\"Net Total amount of Profit/Losses: ${total_pnl}\")"
   ]
  },
  {
   "cell_type": "code",
   "execution_count": 5,
   "id": "646b41d9-cfb9-45e8-9f4d-c23db6d1a95a",
   "metadata": {},
   "outputs": [],
   "source": [
    "## The average of the changes in Profit/Losses over the entire period.\n",
    "average = 0\n",
    "average = total_pnl / total_months\n",
    "## The greatest increase in profits (date and amount) over the entire period.\n",
    "\n",
    "\n",
    "## The greatest decrease in losses (date and amount) over the entire period.\n",
    "\n",
    "\n",
    "## Your resulting analysis should look similar to the following:\n",
    "## Financial Analysis\n",
    "## ----------------------------\n",
    "## Total Months: 86\n",
    "## Total: $38382578\n",
    "## Average  Change: $-2315.12\n",
    "## Greatest Increase in Profits: Feb-2012 ($1926159)\n",
    "## Greatest Decrease in Profits: Sep-2013 ($-2196167)\n",
    "    \n",
    "## Your final script should print the analysis to the terminal and export a text file with the results."
   ]
  },
  {
   "cell_type": "code",
   "execution_count": null,
   "id": "b79bdc67-7a9b-44e5-baec-2c8c589e0036",
   "metadata": {},
   "outputs": [],
   "source": []
  }
 ],
 "metadata": {
  "kernelspec": {
   "display_name": "dev",
   "language": "python",
   "name": "dev"
  },
  "language_info": {
   "codemirror_mode": {
    "name": "ipython",
    "version": 3
   },
   "file_extension": ".py",
   "mimetype": "text/x-python",
   "name": "python",
   "nbconvert_exporter": "python",
   "pygments_lexer": "ipython3",
   "version": "3.7.10"
  }
 },
 "nbformat": 4,
 "nbformat_minor": 5
}
